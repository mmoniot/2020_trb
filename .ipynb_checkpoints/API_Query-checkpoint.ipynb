{
 "cells": [
  {
   "cell_type": "markdown",
   "metadata": {},
   "source": [
    "## API Function Definitions"
   ]
  },
  {
   "cell_type": "code",
   "execution_count": null,
   "metadata": {},
   "outputs": [],
   "source": [
    "import pandas as pd\n",
    "from datetime import datetime, timedelta\n",
    "import requests\n",
    "import json\n",
    "%matplotlib inline\n",
    "import matplotlib.pyplot as plt\n",
    "import numpy as np"
   ]
  },
  {
   "cell_type": "code",
   "execution_count": null,
   "metadata": {},
   "outputs": [],
   "source": [
    "#Input values\n",
    "fleet_size = [50000,10000,1000]\n",
    "mean_dvmt = [45,35,25]\n",
    "temp_c = [40,30,20,10,0,-10,-20]\n",
    "pev_type = ['PHEV20','PHEV50','BEV100','BEV250']\n",
    "pev_dist = ['EQUAL_DIST','PHEV_DOM','BEV_DOM']\n",
    "vehicle_class_dist = ['Sed20_Suv80','Sed50_Suv50','Sed80_Suv20']\n",
    "day_of_week = ['weekday','weekend']\n",
    "home_access = ['HA100','HA75','HA50',]\n",
    "home_power_dist = [\"L2\"]\n",
    "work_power_dist = ['L2_20','L2_50','L2_100']\n",
    "pref_dist = ['Home60','Home80','Home100']\n",
    "dest_type = ['Home','Public','Work']\n",
    "dest_chg_level = ['L1','L2','L3']\n"
   ]
  },
  {
   "cell_type": "code",
   "execution_count": null,
   "metadata": {},
   "outputs": [],
   "source": [
    "def selection_API_Run(fleet_size,mean_dvmt,temp_c,pev_type,pev_dist,vehicle_class_dist,home_access,work_power_dist,pref_dist,dest_chg_level,day_of_week,dest_type,test=0):    \n",
    "    params=[]\n",
    "    #Don't need home_power_dist since it only has one choice\n",
    "    #day_of_week and dest_type are used to generate plots- therefore all selections are used (and they are omitted from choice selection)\n",
    "    \n",
    "    for var_name,var in zip([\"fleet size\",\"mean daily vehicle miles traveled\",\"temperature (C)\",\"PEV distribution\",\"vehicle class distribution\",\"% of homes with home charging access\",\"% of L2 work charging (remainder is L1)\",\"percent of charging done at home (for those who have it)\"],[fleet_size,mean_dvmt,temp_c,pev_dist,vehicle_class_dist,home_access,work_power_dist,pref_dist]):\n",
    "        if test!=1:\n",
    "            print(\"Please select a value for \"+var_name+\".\")\n",
    "            for i in range(0,len(var)):\n",
    "                print(str(i)+\") \"+str(var[i]))   \n",
    "            while True:\n",
    "                selection=-1\n",
    "                try:\n",
    "                    selection = int(input(\"Enter an integer selection from above (Ex. 0, 1, 2..): \")) #User selects parameter choice from list\n",
    "                except:\n",
    "                    pass\n",
    "                if selection in list(range(len(var))):\n",
    "                    break\n",
    "                else:\n",
    "                    print(\"Select just one of the numbers corresponding to a choice from the above listed parameter values.\")\n",
    "             \n",
    "            params.append(var[selection])         #Will be a list of parameters in the order listed in the for loop\n",
    "            print(\"\\n\")\n",
    "        else:\n",
    "            print(var[0])\n",
    "            params.append(var[0])\n",
    "\n",
    "    #Generate load profiles for home, public, and work on both weekends and weekdays and for different charger levels according to the selected parameters\n",
    "    print(\"Running simulation according to selected parameters...\")\n",
    "    record_json={}\n",
    "    for dow in day_of_week:\n",
    "        record_json[dow]={}\n",
    "        for location in dest_type:\n",
    "            for chg_level in dest_chg_level:\n",
    "                print(dow,location,chg_level)\n",
    "                #Skip home/work level 3 or public level 1\n",
    "                if (location==\"Home\" and chg_level!=\"L3\") or (location==\"Public\" and chg_level!=\"L1\") or (location==\"Work\" and chg_level!=\"L3\"): \n",
    "                    for pev in pev_type:\n",
    "                        if (pev[0:4]==\"PHEV\" and chg_level==\"L3\"): #Skip PHEV and L3\n",
    "                            pass\n",
    "                        else:\n",
    "                            url = \"\"\"https://devstage.nrel.gov/api/evi-pro-lite-beta/load-profile?fleet_size=%s&mean_dvmt=%s&temp_c=%s&pev_dist=%s&vehicle_class_dist=%s&home_access=%s&home_power_dist=L2&work_power_dist=%s&pref_dist=%s&dest_chg_level=%s&day_of_week=%s&dest_type=%s&pev_type=%s\"\"\" %(params[0],params[1],params[2],params[3],params[4],params[5],params[6],params[7],chg_level,dow,location,pev)\n",
    "                            url=url.replace(\"\\\\\", \"\")\n",
    "                            record_str = requests.get(url).text\n",
    "                            record_str = record_str.replace(\"'\", \"\\\"\")\n",
    "                            raw_json=json.loads(record_str)\n",
    "                            try:\n",
    "                                raw_json['load_profile']\n",
    "                            except KeyError:\n",
    "                                print(dow,location,chg_level,pev,\": \",raw_json['errors'])\n",
    "                                current_results = np.zeros(96)\n",
    "                            else:\n",
    "                                current_results=[float(i) for i in raw_json['load_profile']] #Parse the JSON\n",
    "                                #If we haven't saved data for this location and charger level, create a new dictionary entry. Otherwise, add to the existing\n",
    "                            try:\n",
    "                                record_json[dow][location,chg_level]\n",
    "                            except KeyError:\n",
    "                                record_json[dow][location,chg_level] = current_results\n",
    "                            else:\n",
    "                                record_json[dow][location,chg_level]=[x + y for x, y in zip(record_json[dow][location,chg_level], current_results)]\n",
    "                else:\n",
    "                    pass\n",
    "    record_json_df=pd.DataFrame(record_json)\n",
    "    print(\"Simulation Run Complete\")\n",
    "    return record_json_df,params[0] #return results and selected fleet size"
   ]
  },
  {
   "cell_type": "code",
   "execution_count": null,
   "metadata": {},
   "outputs": [],
   "source": [
    "#Run user selection\n",
    "result,size = selection_API_Run(fleet_size,mean_dvmt,temp_c,pev_type,pev_dist,vehicle_class_dist,home_access,work_power_dist,pref_dist,dest_chg_level,day_of_week,dest_type,2)"
   ]
  },
  {
   "cell_type": "markdown",
   "metadata": {},
   "source": [
    "## Plotting"
   ]
  },
  {
   "cell_type": "code",
   "execution_count": null,
   "metadata": {
    "collapsed": true
   },
   "outputs": [],
   "source": [
    "##Stack Plot\n",
    "def loadPlotting(day):\n",
    "    fig = plt.figure(figsize = (12,5))\n",
    "    ax = plt.axes()\n",
    "    xaxis_labels = [(x * 15.0)/60.0 for x in range(0,96)]\n",
    "\n",
    "    ax.stackplot(xaxis_labels,result[day][0],result[day][1],result[day][2],result[day][3],result[day][4],result[day][5])\n",
    "    \n",
    "    plt.legend(result['weekday'].keys(),fontsize = 14,loc = 'upper left')\n",
    "    plt.xlabel('Hour of Day',size=18)\n",
    "    plt.ylabel('Grid Load [kW]',size=18)\n",
    "    plt.title(day.capitalize()+' Fleet-wide Grid load',size=18)\n",
    "    plt.xticks(size=14)\n",
    "    plt.yticks(size=14)\n",
    "\n",
    "    ymin, ymax = ax.get_ylim()\n",
    "    ax.set_xlim([0,24])\n",
    "    if size == 50000:\n",
    "        ax.set_ylim([0,200000])\n",
    "    elif size == 10000:\n",
    "        ax.set_ylim([0,35000])\n",
    "    elif size == 1000:\n",
    "        ax.set_ylim([0,3500])   \n",
    "    ax.xaxis.set_major_locator(plt.MaxNLocator(6))   \n"
   ]
  },
  {
   "cell_type": "code",
   "execution_count": null,
   "metadata": {},
   "outputs": [],
   "source": [
    "loadPlotting('weekday')\n",
    "loadPlotting('weekend')"
   ]
  },
  {
   "cell_type": "code",
   "execution_count": null,
   "metadata": {
    "collapsed": true
   },
   "outputs": [],
   "source": []
  }
 ],
 "metadata": {
  "kernelspec": {
   "display_name": "Python 3",
   "language": "python",
   "name": "python3"
  },
  "language_info": {
   "codemirror_mode": {
    "name": "ipython",
    "version": 3
   },
   "file_extension": ".py",
   "mimetype": "text/x-python",
   "name": "python",
   "nbconvert_exporter": "python",
   "pygments_lexer": "ipython3",
   "version": "3.7.3"
  }
 },
 "nbformat": 4,
 "nbformat_minor": 2
}
